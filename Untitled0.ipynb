{
  "nbformat": 4,
  "nbformat_minor": 0,
  "metadata": {
    "colab": {
      "name": "Untitled0.ipynb",
      "provenance": [],
      "authorship_tag": "ABX9TyMO+Jym7MexE52azBAe6fR1",
      "include_colab_link": true
    },
    "kernelspec": {
      "name": "python3",
      "display_name": "Python 3"
    },
    "language_info": {
      "name": "python"
    }
  },
  "cells": [
    {
      "cell_type": "markdown",
      "metadata": {
        "id": "view-in-github",
        "colab_type": "text"
      },
      "source": [
        "<a href=\"https://colab.research.google.com/github/ah7255703/akwam-old-scraper/blob/main/Untitled0.ipynb\" target=\"_parent\"><img src=\"https://colab.research.google.com/assets/colab-badge.svg\" alt=\"Open In Colab\"/></a>"
      ]
    },
    {
      "cell_type": "code",
      "source": [
        "media_url = \"https://old.akwam.to/184289/%D9%85%D8%B3%D9%84%D8%B3%D9%84-I-Am-Not-Okay-with-This-%D8%A7%D9%84%D9%85%D9%88%D8%B3%D9%85-%D8%A7%D9%84%D8%A7%D9%88%D9%84-%D9%85%D8%AA%D8%B1%D8%AC%D9%85\" #@param {type:\"string\"}\n",
        "quality = \"480p\" #@param [\"480p\", \"720p\"]"
      ],
      "metadata": {
        "id": "Bj75Mfaz4Kdx"
      },
      "execution_count": 34,
      "outputs": []
    },
    {
      "cell_type": "code",
      "source": [
        "# coding=utf-8\n",
        "import json\n",
        "import time\n",
        "import sys\n",
        "import asyncio\n",
        "import os\n",
        "try:\n",
        "  import aiohttp,nest_asyncio\n",
        "except:\n",
        "  %pip install nest_asyncio bs4 aiohttp\n",
        "from bs4 import BeautifulSoup\n",
        "nest_asyncio.apply()\n",
        "async def __validate(url:str)-> bool:\n",
        "    DOMAIN = 'akwam'\n",
        "    if DOMAIN not in url:\n",
        "        return False\n",
        "    return True\n",
        "\n",
        "async def __soup(data:str,parser='html.parser'):\n",
        "    soup = BeautifulSoup(data,parser)\n",
        "    return soup\n",
        "\n",
        "async def __get_epis(page_soup:BeautifulSoup):\n",
        "    epis = page_soup.find_all('div',class_='direct_link_box')\n",
        "    return epis\n",
        "\n",
        "async def __parse_each_epi(soup:BeautifulSoup):\n",
        "    # we will get one\n",
        "    link = soup.find('a',class_=\"download_btn\")\n",
        "    return link.get('href')  # type: ignore\n",
        "\n",
        "async def __get_id_links(url:str,session):\n",
        "    '''this will get indirect download links'''\n",
        "    if not await __validate(url):\n",
        "        raise Exception('This is not valid akwam url')\n",
        "    \n",
        "    async with session.get(url) as response:\n",
        "        data = await response.text('utf-8')\n",
        "        soup = await __soup(data)\n",
        "    items_mcp =await __get_epis(soup)\n",
        "    links = [await __parse_each_epi(mcp) for mcp in items_mcp ]\n",
        "    return links\n",
        "\n",
        "async def __get_direct_link(ind_link,session) -> str:\n",
        "    headers = {\"X-Requested-With\": \"XMLHttpRequest\",\"Referer\": ind_link}\n",
        "    async with  session.post(ind_link,headers=headers) as response:\n",
        "        _data = await response.text('utf-8')\n",
        "    _link:dict = json.loads(_data).get('direct_link')\n",
        "    return str(_link).strip()\n",
        "\n",
        "async def get(url:str,session):\n",
        "    id_links = await __get_id_links(url,session)\n",
        "    # d_links = [await (__get_direct_link(link,session)) for link in id_links]\n",
        "    tasks = [asyncio.create_task(__get_direct_link(link,session)) for link in id_links]\n",
        "    _d_links = asyncio.gather(*tasks)\n",
        "    d_links = await _d_links\n",
        "    return d_links\n",
        "\n",
        "async def main():\n",
        "    url = media_url\n",
        "    t1 = time.time()\n",
        "    async with aiohttp.ClientSession() as session:\n",
        "        data = await get(url,session)\n",
        "    [print(i) for i in data]\n",
        "    t2 = time.time()\n",
        "    print('Done in {} seconds'.format(t2-t1))"
      ],
      "metadata": {
        "id": "G2kOvzhOgYli"
      },
      "execution_count": 37,
      "outputs": []
    },
    {
      "cell_type": "code",
      "source": [
        "if __name__ == '__main__':\n",
        "    loop = asyncio.get_event_loop()\n",
        "    loop.run_until_complete(main())"
      ],
      "metadata": {
        "id": "UEcU43NBgbeV"
      },
      "execution_count": null,
      "outputs": []
    }
  ]
}